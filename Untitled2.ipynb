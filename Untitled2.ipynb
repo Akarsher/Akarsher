{
  "nbformat": 4,
  "nbformat_minor": 0,
  "metadata": {
    "colab": {
      "provenance": [],
      "authorship_tag": "ABX9TyMKSfIm2eVN6R1skdwtz0yA",
      "include_colab_link": true
    },
    "kernelspec": {
      "name": "python3",
      "display_name": "Python 3"
    },
    "language_info": {
      "name": "python"
    }
  },
  "cells": [
    {
      "cell_type": "markdown",
      "metadata": {
        "id": "view-in-github",
        "colab_type": "text"
      },
      "source": [
        "<a href=\"https://colab.research.google.com/github/Akarsher/Akarsher/blob/main/Untitled2.ipynb\" target=\"_parent\"><img src=\"https://colab.research.google.com/assets/colab-badge.svg\" alt=\"Open In Colab\"/></a>"
      ]
    },
    {
      "cell_type": "code",
      "execution_count": 2,
      "metadata": {
        "colab": {
          "base_uri": "https://localhost:8080/"
        },
        "id": "b3j8ozS-NT5d",
        "outputId": "1be43098-e20c-4cee-d5f7-6a8aba280382"
      },
      "outputs": [
        {
          "output_type": "stream",
          "name": "stdout",
          "text": [
            "hello world\n"
          ]
        }
      ],
      "source": [
        "print (\"hello world\")"
      ]
    },
    {
      "cell_type": "code",
      "source": [
        "ones = np.ones((2,3,3))\n",
        "print(ones)\n",
        "\n",
        "print(ones.shape)\n",
        "print(ones.ndim)\n",
        "print(ones.dtype)\n",
        "print(ones.size)"
      ],
      "metadata": {
        "colab": {
          "base_uri": "https://localhost:8080/"
        },
        "id": "rYx0Y4kxRIPV",
        "outputId": "ae04ede1-33d0-4c84-a344-7f52f14cd354"
      },
      "execution_count": 15,
      "outputs": [
        {
          "output_type": "stream",
          "name": "stdout",
          "text": [
            "[[[1. 1. 1.]\n",
            "  [1. 1. 1.]\n",
            "  [1. 1. 1.]]\n",
            "\n",
            " [[1. 1. 1.]\n",
            "  [1. 1. 1.]\n",
            "  [1. 1. 1.]]]\n",
            "(2, 3, 3)\n",
            "3\n",
            "float64\n",
            "18\n"
          ]
        }
      ]
    },
    {
      "cell_type": "code",
      "source": [
        "array = np.linspace(1,25,4)\n",
        "array"
      ],
      "metadata": {
        "colab": {
          "base_uri": "https://localhost:8080/"
        },
        "id": "oiNlFdIUUVL1",
        "outputId": "0bfd1f74-9b5e-44f8-828e-38dc3a057e31"
      },
      "execution_count": 16,
      "outputs": [
        {
          "output_type": "execute_result",
          "data": {
            "text/plain": [
              "array([ 1.,  9., 17., 25.])"
            ]
          },
          "metadata": {},
          "execution_count": 16
        }
      ]
    },
    {
      "cell_type": "code",
      "source": [
        "import pandas as pd\n",
        "import numpy as np"
      ],
      "metadata": {
        "id": "sVH6m1y2ON38"
      },
      "execution_count": 11,
      "outputs": []
    },
    {
      "cell_type": "code",
      "source": [
        "data = {'Name' :['akarsh','akhil','adwaith','adithya','allen'],\n",
        "        'Age' :[21,22,20,22,23],\n",
        "        'Course' :['B.Tech','M.Tech','Bsc-CS','MCA','BCA']}\n",
        "df = pd.DataFrame(data)\n",
        "print(df)"
      ],
      "metadata": {
        "colab": {
          "base_uri": "https://localhost:8080/"
        },
        "id": "IoGvxptEO0e0",
        "outputId": "ebd93d8c-9530-4786-947c-7e84c3d1aaa5"
      },
      "execution_count": 7,
      "outputs": [
        {
          "output_type": "stream",
          "name": "stdout",
          "text": [
            "      Name  Age  Course\n",
            "0   akarsh   21  B.Tech\n",
            "1    akhil   22  M.Tech\n",
            "2  adwaith   20  Bsc-CS\n",
            "3  adithya   22     MCA\n",
            "4    allen   23     BCA\n"
          ]
        }
      ]
    },
    {
      "cell_type": "code",
      "source": [
        "df.to_csv('data.csv',index=False)"
      ],
      "metadata": {
        "id": "MQbQuiCyQsa2"
      },
      "execution_count": 10,
      "outputs": []
    }
  ]
}